{
 "cells": [
  {
   "cell_type": "code",
   "execution_count": 50,
   "id": "f0e6bea4",
   "metadata": {},
   "outputs": [],
   "source": [
    "import os\n",
    "import json\n",
    "import pandas as pd\n",
    "# import seaborn as sns\n",
    "import matplotlib.pyplot as plt"
   ]
  },
  {
   "cell_type": "code",
   "execution_count": 51,
   "id": "a3e40e89",
   "metadata": {},
   "outputs": [],
   "source": [
    "# !conda update -n base -c defaults conda\n",
    "# !conda install seaborn"
   ]
  },
  {
   "cell_type": "code",
   "execution_count": 58,
   "id": "5980bfef",
   "metadata": {},
   "outputs": [],
   "source": [
    "result_dir = '../../output/hetPQA/exp02/04_04_2023-19_52_23/'"
   ]
  },
  {
   "cell_type": "code",
   "execution_count": 59,
   "id": "15b56c59",
   "metadata": {},
   "outputs": [],
   "source": [
    "def MRR(result_dts):\n",
    "    reciprocals = []\n",
    "    for result_dt in result_dts:\n",
    "        true_positive = (set(result_dt[\"actual_ctx_ids\"]) & set(result_dt[\"pred_ctx_ids\"]))\n",
    "        if len(true_positive):\n",
    "            first_rank = min([result_dt[\"pred_ctx_ids\"].index(idx) for idx in true_positive]) + 1\n",
    "            reciprocal = 1 / first_rank\n",
    "        else:\n",
    "            reciprocal = 0\n",
    "        result_dt[\"rr\"] = reciprocal\n",
    "        reciprocals.append(reciprocal)\n",
    "    count = len(reciprocals)\n",
    "    mean_rr = sum(reciprocals)/count if count else None\n",
    "    return mean_rr, result_dts"
   ]
  },
  {
   "cell_type": "code",
   "execution_count": 54,
   "id": "1dc984d8",
   "metadata": {},
   "outputs": [
    {
     "name": "stdout",
     "output_type": "stream",
     "text": [
      "Mean reciprocal rank: 0.8289999076246205\n"
     ]
    }
   ],
   "source": [
    "rank_file_path = os.path.join(result_dir, 'rank_score_ids.jsonl')\n",
    "result_dts = []\n",
    "with open(rank_file_path, 'r') as fin:\n",
    "    for line in fin:\n",
    "        json_dt = json.loads(line.strip())\n",
    "        result_dts.append(json_dt)\n",
    "        \n",
    "mrr, result_dts = MRR(result_dts)\n",
    "print(f'Mean reciprocal rank: {mrr}')"
   ]
  },
  {
   "cell_type": "code",
   "execution_count": 60,
   "id": "eb1c2484",
   "metadata": {},
   "outputs": [
    {
     "data": {
      "text/html": [
       "<div>\n",
       "<style scoped>\n",
       "    .dataframe tbody tr th:only-of-type {\n",
       "        vertical-align: middle;\n",
       "    }\n",
       "\n",
       "    .dataframe tbody tr th {\n",
       "        vertical-align: top;\n",
       "    }\n",
       "\n",
       "    .dataframe thead th {\n",
       "        text-align: right;\n",
       "    }\n",
       "</style>\n",
       "<table border=\"1\" class=\"dataframe\">\n",
       "  <thead>\n",
       "    <tr style=\"text-align: right;\">\n",
       "      <th></th>\n",
       "      <th>qid</th>\n",
       "      <th>source</th>\n",
       "      <th>scores</th>\n",
       "      <th>pred_ctx_ids</th>\n",
       "      <th>actual_ctx_ids</th>\n",
       "      <th>rr</th>\n",
       "    </tr>\n",
       "  </thead>\n",
       "  <tbody>\n",
       "    <tr>\n",
       "      <th>0</th>\n",
       "      <td>8</td>\n",
       "      <td>attribute</td>\n",
       "      <td>[81.55857849121094, 53.98442840576172, 51.0949...</td>\n",
       "      <td>[123917, 141841, 23841, 45119, 50989, 42133, 1...</td>\n",
       "      <td>[123917]</td>\n",
       "      <td>1.0</td>\n",
       "    </tr>\n",
       "    <tr>\n",
       "      <th>1</th>\n",
       "      <td>17</td>\n",
       "      <td>attribute</td>\n",
       "      <td>[54.50217819213867, 52.6817512512207, 52.50930...</td>\n",
       "      <td>[45119, 146264, 134904, 145969, 14068, 2055, 6...</td>\n",
       "      <td>[146264]</td>\n",
       "      <td>0.5</td>\n",
       "    </tr>\n",
       "    <tr>\n",
       "      <th>2</th>\n",
       "      <td>25</td>\n",
       "      <td>attribute</td>\n",
       "      <td>[71.90149688720703, 49.93775177001953, 47.5014...</td>\n",
       "      <td>[99117, 41571, 4623, 131188, 35404, 136384, 25...</td>\n",
       "      <td>[99117]</td>\n",
       "      <td>1.0</td>\n",
       "    </tr>\n",
       "    <tr>\n",
       "      <th>3</th>\n",
       "      <td>28</td>\n",
       "      <td>attribute</td>\n",
       "      <td>[83.82231140136719, 58.26805877685547, 57.1513...</td>\n",
       "      <td>[131193, 75250, 134102, 148908, 70315, 23975, ...</td>\n",
       "      <td>[131193]</td>\n",
       "      <td>1.0</td>\n",
       "    </tr>\n",
       "    <tr>\n",
       "      <th>4</th>\n",
       "      <td>37</td>\n",
       "      <td>attribute</td>\n",
       "      <td>[72.64936065673828, 53.7113151550293, 52.94037...</td>\n",
       "      <td>[146272, 147180, 33612, 106275, 47591, 32472, ...</td>\n",
       "      <td>[146272]</td>\n",
       "      <td>1.0</td>\n",
       "    </tr>\n",
       "  </tbody>\n",
       "</table>\n",
       "</div>"
      ],
      "text/plain": [
       "  qid     source                                             scores  \\\n",
       "0   8  attribute  [81.55857849121094, 53.98442840576172, 51.0949...   \n",
       "1  17  attribute  [54.50217819213867, 52.6817512512207, 52.50930...   \n",
       "2  25  attribute  [71.90149688720703, 49.93775177001953, 47.5014...   \n",
       "3  28  attribute  [83.82231140136719, 58.26805877685547, 57.1513...   \n",
       "4  37  attribute  [72.64936065673828, 53.7113151550293, 52.94037...   \n",
       "\n",
       "                                        pred_ctx_ids actual_ctx_ids   rr  \n",
       "0  [123917, 141841, 23841, 45119, 50989, 42133, 1...       [123917]  1.0  \n",
       "1  [45119, 146264, 134904, 145969, 14068, 2055, 6...       [146264]  0.5  \n",
       "2  [99117, 41571, 4623, 131188, 35404, 136384, 25...        [99117]  1.0  \n",
       "3  [131193, 75250, 134102, 148908, 70315, 23975, ...       [131193]  1.0  \n",
       "4  [146272, 147180, 33612, 106275, 47591, 32472, ...       [146272]  1.0  "
      ]
     },
     "execution_count": 60,
     "metadata": {},
     "output_type": "execute_result"
    }
   ],
   "source": [
    "df = pd.DataFrame(result_dts)\n",
    "df.head()"
   ]
  },
  {
   "cell_type": "code",
   "execution_count": 61,
   "id": "a26ed03c",
   "metadata": {},
   "outputs": [
    {
     "data": {
      "text/html": [
       "<div>\n",
       "<style scoped>\n",
       "    .dataframe tbody tr th:only-of-type {\n",
       "        vertical-align: middle;\n",
       "    }\n",
       "\n",
       "    .dataframe tbody tr th {\n",
       "        vertical-align: top;\n",
       "    }\n",
       "\n",
       "    .dataframe thead th {\n",
       "        text-align: right;\n",
       "    }\n",
       "</style>\n",
       "<table border=\"1\" class=\"dataframe\">\n",
       "  <thead>\n",
       "    <tr style=\"text-align: right;\">\n",
       "      <th></th>\n",
       "      <th>qid_count</th>\n",
       "      <th>qid_unique</th>\n",
       "      <th>rr_min</th>\n",
       "      <th>rr_max</th>\n",
       "      <th>rr_mean</th>\n",
       "    </tr>\n",
       "    <tr>\n",
       "      <th>source</th>\n",
       "      <th></th>\n",
       "      <th></th>\n",
       "      <th></th>\n",
       "      <th></th>\n",
       "      <th></th>\n",
       "    </tr>\n",
       "  </thead>\n",
       "  <tbody>\n",
       "    <tr>\n",
       "      <th>CQA</th>\n",
       "      <td>1958</td>\n",
       "      <td>1958</td>\n",
       "      <td>0.012048</td>\n",
       "      <td>1.0</td>\n",
       "      <td>0.663509</td>\n",
       "    </tr>\n",
       "    <tr>\n",
       "      <th>Desc</th>\n",
       "      <td>2021</td>\n",
       "      <td>1070</td>\n",
       "      <td>0.062500</td>\n",
       "      <td>1.0</td>\n",
       "      <td>0.998464</td>\n",
       "    </tr>\n",
       "    <tr>\n",
       "      <th>OSP</th>\n",
       "      <td>147</td>\n",
       "      <td>126</td>\n",
       "      <td>0.043478</td>\n",
       "      <td>1.0</td>\n",
       "      <td>0.691583</td>\n",
       "    </tr>\n",
       "    <tr>\n",
       "      <th>attribute</th>\n",
       "      <td>1001</td>\n",
       "      <td>1001</td>\n",
       "      <td>0.052632</td>\n",
       "      <td>1.0</td>\n",
       "      <td>0.913824</td>\n",
       "    </tr>\n",
       "    <tr>\n",
       "      <th>bullet</th>\n",
       "      <td>692</td>\n",
       "      <td>692</td>\n",
       "      <td>0.090909</td>\n",
       "      <td>1.0</td>\n",
       "      <td>0.867354</td>\n",
       "    </tr>\n",
       "    <tr>\n",
       "      <th>review</th>\n",
       "      <td>1696</td>\n",
       "      <td>1696</td>\n",
       "      <td>0.050000</td>\n",
       "      <td>1.0</td>\n",
       "      <td>0.764315</td>\n",
       "    </tr>\n",
       "  </tbody>\n",
       "</table>\n",
       "</div>"
      ],
      "text/plain": [
       "           qid_count  qid_unique    rr_min  rr_max   rr_mean\n",
       "source                                                      \n",
       "CQA             1958        1958  0.012048     1.0  0.663509\n",
       "Desc            2021        1070  0.062500     1.0  0.998464\n",
       "OSP              147         126  0.043478     1.0  0.691583\n",
       "attribute       1001        1001  0.052632     1.0  0.913824\n",
       "bullet           692         692  0.090909     1.0  0.867354\n",
       "review          1696        1696  0.050000     1.0  0.764315"
      ]
     },
     "execution_count": 61,
     "metadata": {},
     "output_type": "execute_result"
    }
   ],
   "source": [
    "def unique(x):\n",
    "    return len(x.unique())\n",
    "source_df = df[['qid', 'source', 'rr']].groupby('source').aggregate({'qid':['count', unique], 'rr':['min', 'max', 'mean']})\n",
    "source_df.columns = ['_'.join(vals) for vals in source_df.columns.to_flat_index()]\n",
    "source_df"
   ]
  },
  {
   "cell_type": "code",
   "execution_count": 74,
   "id": "b7e1fbad",
   "metadata": {},
   "outputs": [
    {
     "data": {
      "image/png": "[encoded data removed]",
      "text/plain": [
       "<Figure size 800x500 with 6 Axes>"
      ]
     },
     "metadata": {
      "needs_background": "light"
     },
     "output_type": "display_data"
    }
   ],
   "source": [
    "# Plot\n",
    "fig, axes = plt.subplots(2, 3, figsize=(8,5), dpi=100, sharex=True, sharey=True)\n",
    "colors = ['tab:red', 'tab:blue', 'tab:green', 'tab:pink', 'tab:olive', 'tab:gray']\n",
    "\n",
    "for i, (ax, source) in enumerate(zip(axes.flatten(), df.source.unique())):\n",
    "    x = df.loc[df.source==source, 'rr']\n",
    "    ax.hist(x, alpha=0.5, bins=100, density=True, stacked=True, label=str(source), color=colors[i])\n",
    "    ax.set_title(source)\n",
    "\n",
    "plt.suptitle('Reciprocal Rank Histogram of sources', y=1.05, size=16)\n",
    "ax.set_xlim(0, 1); ax.set_ylim(0, 15);\n",
    "plt.tight_layout();"
   ]
  },
  {
   "cell_type": "code",
   "execution_count": null,
   "id": "5f54b9b7",
   "metadata": {},
   "outputs": [],
   "source": [
    "# plt.subplots(figsize=(7,6), dpi=100)\n",
    "# sns.distplot( df.loc[df.source=='CQA', \"rr\"] , color=\"gray\", label=\"CQA\")\n",
    "# sns.distplot( df.loc[df.source=='Desc', \"rr\"] , color=\"orange\", label=\"Desc\")\n",
    "# sns.distplot( df.loc[df.source=='OSP', \"rr\"] , color=\"pink\", label=\"OSP\")\n",
    "# sns.distplot( df.loc[df.source=='attribute', \"rr\"] , color=\"red\", label=\"attribute\")\n",
    "# sns.distplot( df.loc[df.source=='bullet', \"rr\"] , color=\"olive\", label=\"bullet\")\n",
    "# sns.distplot( df.loc[df.source=='review', \"rr\"] , color=\"green\", label=\"review\")\n",
    "\n",
    "# plt.title('Reciprocal Rank Histogram')\n",
    "# plt.legend()"
   ]
  },
  {
   "cell_type": "code",
   "execution_count": 79,
   "id": "6cf60e4d",
   "metadata": {},
   "outputs": [
    {
     "name": "stdout",
     "output_type": "stream",
     "text": [
      "[(('671', 'Desc'), 12), (('1715', 'Desc'), 12), (('2352', 'Desc'), 12), (('390', 'Desc'), 10), (('634', 'Desc'), 10)]\n"
     ]
    }
   ],
   "source": [
    "import collections\n",
    "test_path = '../../data/evidence_ranking/grouped/test.json'\n",
    "with open(test_path, 'r') as fin:\n",
    "    test_samples = json.load(fin)\n",
    "\n",
    "test_dt = {}\n",
    "qid_src_counter = collections.Counter()\n",
    "for sample in test_samples:\n",
    "    if sample['positive_ctxs']:\n",
    "        source = sample['positive_ctxs'][0]['source']\n",
    "        count = qid_src_counter[(sample['qid'], source)] + 1\n",
    "        qid_src_counter[(sample['qid'], source)] = count\n",
    "        qid_src_count = sample['qid'] + '_' + source + '_' + str(count)\n",
    "        test_dt[qid_src_count] = sample\n",
    "\n",
    "most_common = qid_src_counter.most_common(5)\n",
    "print(most_common)"
   ]
  },
  {
   "cell_type": "code",
   "execution_count": 75,
   "id": "27f947fb",
   "metadata": {},
   "outputs": [
    {
     "name": "stdout",
     "output_type": "stream",
     "text": [
      "Size of CQA: 1958, CQA_low: 382\n"
     ]
    },
    {
     "name": "stderr",
     "output_type": "stream",
     "text": [
      "C:\\Users\\bbiswas\\Anaconda3\\lib\\site-packages\\pandas\\util\\_decorators.py:311: SettingWithCopyWarning: \n",
      "A value is trying to be set on a copy of a slice from a DataFrame\n",
      "\n",
      "See the caveats in the documentation: https://pandas.pydata.org/pandas-docs/stable/user_guide/indexing.html#returning-a-view-versus-a-copy\n",
      "  return func(*args, **kwargs)\n"
     ]
    },
    {
     "data": {
      "text/html": [
       "<div>\n",
       "<style scoped>\n",
       "    .dataframe tbody tr th:only-of-type {\n",
       "        vertical-align: middle;\n",
       "    }\n",
       "\n",
       "    .dataframe tbody tr th {\n",
       "        vertical-align: top;\n",
       "    }\n",
       "\n",
       "    .dataframe thead th {\n",
       "        text-align: right;\n",
       "    }\n",
       "</style>\n",
       "<table border=\"1\" class=\"dataframe\">\n",
       "  <thead>\n",
       "    <tr style=\"text-align: right;\">\n",
       "      <th></th>\n",
       "      <th>qid</th>\n",
       "      <th>source</th>\n",
       "      <th>scores</th>\n",
       "      <th>pred_ctx_ids</th>\n",
       "      <th>actual_ctx_ids</th>\n",
       "      <th>rr</th>\n",
       "    </tr>\n",
       "  </thead>\n",
       "  <tbody>\n",
       "    <tr>\n",
       "      <th>7230</th>\n",
       "      <td>1090</td>\n",
       "      <td>CQA</td>\n",
       "      <td>[69.59332275390625, 63.061729431152344, 60.929...</td>\n",
       "      <td>[10679, 96612, 49623, 18494, 149287, 56197, 53...</td>\n",
       "      <td>[20974]</td>\n",
       "      <td>0.012048</td>\n",
       "    </tr>\n",
       "    <tr>\n",
       "      <th>5705</th>\n",
       "      <td>135</td>\n",
       "      <td>CQA</td>\n",
       "      <td>[68.0343246459961, 64.28477478027344, 63.67087...</td>\n",
       "      <td>[23179, 129747, 34308, 85633, 38503, 44356, 11...</td>\n",
       "      <td>[99508]</td>\n",
       "      <td>0.016667</td>\n",
       "    </tr>\n",
       "    <tr>\n",
       "      <th>7275</th>\n",
       "      <td>915</td>\n",
       "      <td>CQA</td>\n",
       "      <td>[61.25248718261719, 59.43944549560547, 58.8207...</td>\n",
       "      <td>[111301, 78125, 12794, 121394, 82193, 144917, ...</td>\n",
       "      <td>[13982, 82405]</td>\n",
       "      <td>0.018519</td>\n",
       "    </tr>\n",
       "    <tr>\n",
       "      <th>6084</th>\n",
       "      <td>2556</td>\n",
       "      <td>CQA</td>\n",
       "      <td>[67.098876953125, 54.84682083129883, 53.235469...</td>\n",
       "      <td>[16971, 127000, 118123, 123986, 5995, 5645, 13...</td>\n",
       "      <td>[141509]</td>\n",
       "      <td>0.018868</td>\n",
       "    </tr>\n",
       "    <tr>\n",
       "      <th>5803</th>\n",
       "      <td>2571</td>\n",
       "      <td>CQA</td>\n",
       "      <td>[51.77345275878906, 50.18119812011719, 49.0549...</td>\n",
       "      <td>[81822, 31208, 128094, 90901, 59703, 84530, 51...</td>\n",
       "      <td>[18539]</td>\n",
       "      <td>0.018868</td>\n",
       "    </tr>\n",
       "  </tbody>\n",
       "</table>\n",
       "</div>"
      ],
      "text/plain": [
       "       qid source                                             scores  \\\n",
       "7230  1090    CQA  [69.59332275390625, 63.061729431152344, 60.929...   \n",
       "5705   135    CQA  [68.0343246459961, 64.28477478027344, 63.67087...   \n",
       "7275   915    CQA  [61.25248718261719, 59.43944549560547, 58.8207...   \n",
       "6084  2556    CQA  [67.098876953125, 54.84682083129883, 53.235469...   \n",
       "5803  2571    CQA  [51.77345275878906, 50.18119812011719, 49.0549...   \n",
       "\n",
       "                                           pred_ctx_ids  actual_ctx_ids  \\\n",
       "7230  [10679, 96612, 49623, 18494, 149287, 56197, 53...         [20974]   \n",
       "5705  [23179, 129747, 34308, 85633, 38503, 44356, 11...         [99508]   \n",
       "7275  [111301, 78125, 12794, 121394, 82193, 144917, ...  [13982, 82405]   \n",
       "6084  [16971, 127000, 118123, 123986, 5995, 5645, 13...        [141509]   \n",
       "5803  [81822, 31208, 128094, 90901, 59703, 84530, 51...         [18539]   \n",
       "\n",
       "            rr  \n",
       "7230  0.012048  \n",
       "5705  0.016667  \n",
       "7275  0.018519  \n",
       "6084  0.018868  \n",
       "5803  0.018868  "
      ]
     },
     "execution_count": 75,
     "metadata": {},
     "output_type": "execute_result"
    }
   ],
   "source": [
    "def get_bad_samples(count, df):\n",
    "    \n",
    "    sources = list(df['source'].unique())\n",
    "    for source in sources:\n",
    "        cqa_df = df[df[source]=='CQA']\n",
    "        cqa_low_df = cqa_df[cqa_df['rr']<=0.2]\n",
    "        print(f'Size of CQA: {len(cqa_df)}, CQA_low: {len(cqa_low_df)}')\n",
    "        cqa_low_df.sort_values(by=['rr'], inplace=True)\n",
    "        "
   ]
  },
  {
   "cell_type": "code",
   "execution_count": null,
   "id": "5578d726",
   "metadata": {},
   "outputs": [],
   "source": []
  }
 ],
 "metadata": {
  "kernelspec": {
   "display_name": "Python 3 (ipykernel)",
   "language": "python",
   "name": "python3"
  },
  "language_info": {
   "codemirror_mode": {
    "name": "ipython",
    "version": 3
   },
   "file_extension": ".py",
   "mimetype": "text/x-python",
   "name": "python",
   "nbconvert_exporter": "python",
   "pygments_lexer": "ipython3",
   "version": "3.9.7"
  }
 },
 "nbformat": 4,
 "nbformat_minor": 5
}
